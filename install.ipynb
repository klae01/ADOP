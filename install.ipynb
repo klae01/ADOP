{
  "cells": [
    {
      "cell_type": "code",
      "execution_count": null,
      "metadata": {
        "colab": {
          "base_uri": "https://localhost:8080/"
        },
        "id": "yZSgeCjy7GoT",
        "outputId": "8ad7265b-9605-44ee-dc2c-14cd4a11ef01"
      },
      "outputs": [],
      "source": [
        "!cat /proc/cpuinfo"
      ]
    },
    {
      "cell_type": "code",
      "execution_count": null,
      "metadata": {
        "colab": {
          "base_uri": "https://localhost:8080/"
        },
        "id": "PA566QP_i_uQ",
        "outputId": "42c49176-5f49-4b39-918f-417e44493aa1"
      },
      "outputs": [],
      "source": [
        "%%bash\n",
        "g++ --version\n",
        "gcc --version"
      ]
    },
    {
      "cell_type": "code",
      "execution_count": null,
      "metadata": {
        "colab": {
          "base_uri": "https://localhost:8080/"
        },
        "id": "-_WurVU2i42F",
        "outputId": "b9f624a1-34c4-4848-ce1d-62dca39dfb96"
      },
      "outputs": [],
      "source": [
        "%%bash\n",
        "sudo apt install xorg-dev -y\n",
        "\n",
        "cd ~/content\n",
        "rm -r ADOP\n",
        "git clone  --recursive https://github.com/klae01/ADOP.git -j 10\n",
        "cd ADOP\n"
      ]
    },
    {
      "cell_type": "markdown",
      "metadata": {
        "id": "Dol2ovIzktgn"
      },
      "source": [
        "## Setup Environment\n",
        "## Install Pytorch from Source"
      ]
    },
    {
      "cell_type": "code",
      "execution_count": null,
      "metadata": {
        "colab": {
          "base_uri": "https://localhost:8080/",
          "height": 1000
        },
        "id": "rew1bRexi-Y_",
        "outputId": "fe814428-d1c3-40b1-d394-fb8570884373"
      },
      "outputs": [],
      "source": [
        "%%bash\n",
        "export USE_ROCM=0\n",
        "cd ~/content\n",
        "cd ADOP\n",
        "./create_environment.sh\n",
        "./install_pytorch.sh"
      ]
    },
    {
      "cell_type": "markdown",
      "metadata": {
        "id": "che_MM71k1os"
      },
      "source": [
        "## Build ADOP\n"
      ]
    },
    {
      "cell_type": "code",
      "execution_count": null,
      "metadata": {
        "id": "j520OvBVi-bc"
      },
      "outputs": [],
      "source": [
        "%%bash\n",
        "cd ~/content/ADOP\n",
        "conda activate adop\n",
        "\n",
        "# Set this to either g++-7 or 9\n",
        "export CC=gcc-9\n",
        "export CXX=g++-9\n",
        "export CUDAHOSTCXX=g++-9\n",
        "\n",
        "mkdir build\n",
        "cd build\n",
        "export CONDA=${CONDA_PREFIX:-\"$(dirname $(which conda))/../\"}\n",
        "PYVERSION=(python3 -c 'import sys; print(f\"{sys.version_info.major}.{sys.version_info.minor}\")')\n",
        "cmake -DCMAKE_PREFIX_PATH=\"${CONDA}/lib/python${PYVERSION}/site-packages/torch/;${CONDA}\" ..\n",
        "make -j"
      ]
    },
    {
      "cell_type": "code",
      "execution_count": null,
      "metadata": {},
      "outputs": [],
      "source": [
        "%%bash\n",
        "sudo ls -l /dev/nvidia*\n",
        "sudo usermod -a -G vglusers $USER"
      ]
    },
    {
      "cell_type": "code",
      "execution_count": null,
      "metadata": {},
      "outputs": [],
      "source": [
        "%%bash\n",
        "DATASET_PATH=~/content/CASE/DATA\n",
        "USE_VIDEO=1\n",
        "cd $DATASET_PATH\n",
        "rm -r dense\n",
        "rm -r sparse\n",
        "rm database.db*\n",
        "\n",
        "if [ USE_VIDEO ]; then\n",
        "    rm -r images\n",
        "    mkdir images\n",
        "    fps=4\n",
        "    ffmpeg -i *.mp4 -qscale:v 1 -qmin 1 -vf \"fps=$fps\" images/%04d.jpg\n",
        "fi\n",
        "\n",
        "colmap feature_extractor \\\n",
        "   --database_path $DATASET_PATH/database.db \\\n",
        "   --image_path $DATASET_PATH/images\n",
        "\n",
        "if [ USE_VIDEO ]; then\n",
        "    colmap sequential_matcher \\\n",
        "        --database_path $DATASET_PATH/database.db\n",
        "else\n",
        "    colmap exhaustive_matcher \\\n",
        "        --database_path $DATASET_PATH/database.db\n",
        "fi\n",
        "\n",
        "mkdir $DATASET_PATH/sparse\n",
        "\n",
        "colmap mapper \\\n",
        "    --database_path $DATASET_PATH/database.db \\\n",
        "    --image_path $DATASET_PATH/images \\\n",
        "    --output_path $DATASET_PATH/sparse\n",
        "\n",
        "mkdir $DATASET_PATH/dense\n",
        "\n",
        "colmap image_undistorter \\\n",
        "    --image_path $DATASET_PATH/images \\\n",
        "    --input_path $DATASET_PATH/sparse/0 \\\n",
        "    --output_path $DATASET_PATH/dense \\\n",
        "    --output_type COLMAP \\\n",
        "    --max_image_size 2000\n",
        "\n",
        "# using gpu \n",
        "colmap patch_match_stereo \\\n",
        "    --workspace_path $DATASET_PATH/dense \\\n",
        "    --workspace_format COLMAP \\\n",
        "    --PatchMatchStereo.geom_consistency true\n",
        "\n",
        "colmap stereo_fusion \\\n",
        "    --workspace_path $DATASET_PATH/dense \\\n",
        "    --workspace_format COLMAP \\\n",
        "    --input_type geometric \\\n",
        "    --output_path $DATASET_PATH/dense/fused.ply\n",
        "\n",
        "export SCENE_BASE=$DATASET_PATH\n",
        "mkdir $SCENE_BASE/adop_input\n",
        "~/content/ADOP/build/bin/colmap2adop --sparse_dir $SCENE_BASE/sparse/0/ \\\n",
        "    --image_dir $SCENE_BASE/images/ \\\n",
        "    --point_cloud_file $SCENE_BASE/dense/fused.ply \\\n",
        "    --output_path $SCENE_BASE/adop_input \\\n",
        "    --scale_intrinsics 1 --render_scale 1 \n"
      ]
    },
    {
      "cell_type": "code",
      "execution_count": 1,
      "metadata": {},
      "outputs": [
        {
          "name": "stderr",
          "output_type": "stream",
          "text": [
            "build/bin/adop_train: error while loading shared libraries: libnvToolsExt.so.1: cannot open shared object file: No such file or directory\n"
          ]
        },
        {
          "ename": "CalledProcessError",
          "evalue": "Command 'b'# sudo ln -sfn /usr/local/cuda/lib64/libnvrtc-builtins.so.11.6 /usr/local/cuda/lib64/libnvrtc-builtins.so.11.2 \\ncd  ~/content/ADOP/\\nsudo build/bin/adop_train --config $DATASET_PATH/train_config.ini\\n'' returned non-zero exit status 127.",
          "output_type": "error",
          "traceback": [
            "\u001b[0;31m---------------------------------------------------------------------------\u001b[0m",
            "\u001b[0;31mCalledProcessError\u001b[0m                        Traceback (most recent call last)",
            "\u001b[1;32m/home/leehosu01/content/ADOP_0_0_2.ipynb Cell 10'\u001b[0m in \u001b[0;36m<cell line: 1>\u001b[0;34m()\u001b[0m\n\u001b[0;32m----> <a href='vscode-notebook-cell://ssh-remote%2Bstrad-adop/home/leehosu01/content/ADOP_0_0_2.ipynb#ch0000009vscode-remote?line=0'>1</a>\u001b[0m get_ipython()\u001b[39m.\u001b[39;49mrun_cell_magic(\u001b[39m'\u001b[39;49m\u001b[39mbash\u001b[39;49m\u001b[39m'\u001b[39;49m, \u001b[39m'\u001b[39;49m\u001b[39m'\u001b[39;49m, \u001b[39m'\u001b[39;49m\u001b[39m# sudo ln -sfn /usr/local/cuda/lib64/libnvrtc-builtins.so.11.6 /usr/local/cuda/lib64/libnvrtc-builtins.so.11.2 \u001b[39;49m\u001b[39m\\n\u001b[39;49;00m\u001b[39mcd  ~/content/ADOP/\u001b[39;49m\u001b[39m\\n\u001b[39;49;00m\u001b[39msudo build/bin/adop_train --config $DATASET_PATH/train_config.ini\u001b[39;49m\u001b[39m\\n\u001b[39;49;00m\u001b[39m'\u001b[39;49m)\n",
            "File \u001b[0;32m~/.local/lib/python3.8/site-packages/IPython/core/interactiveshell.py:2347\u001b[0m, in \u001b[0;36mInteractiveShell.run_cell_magic\u001b[0;34m(self, magic_name, line, cell)\u001b[0m\n\u001b[1;32m   <a href='file:///home/leehosu01/.local/lib/python3.8/site-packages/IPython/core/interactiveshell.py?line=2344'>2345</a>\u001b[0m \u001b[39mwith\u001b[39;00m \u001b[39mself\u001b[39m\u001b[39m.\u001b[39mbuiltin_trap:\n\u001b[1;32m   <a href='file:///home/leehosu01/.local/lib/python3.8/site-packages/IPython/core/interactiveshell.py?line=2345'>2346</a>\u001b[0m     args \u001b[39m=\u001b[39m (magic_arg_s, cell)\n\u001b[0;32m-> <a href='file:///home/leehosu01/.local/lib/python3.8/site-packages/IPython/core/interactiveshell.py?line=2346'>2347</a>\u001b[0m     result \u001b[39m=\u001b[39m fn(\u001b[39m*\u001b[39;49margs, \u001b[39m*\u001b[39;49m\u001b[39m*\u001b[39;49mkwargs)\n\u001b[1;32m   <a href='file:///home/leehosu01/.local/lib/python3.8/site-packages/IPython/core/interactiveshell.py?line=2347'>2348</a>\u001b[0m \u001b[39mreturn\u001b[39;00m result\n",
            "File \u001b[0;32m~/.local/lib/python3.8/site-packages/IPython/core/magics/script.py:153\u001b[0m, in \u001b[0;36mScriptMagics._make_script_magic.<locals>.named_script_magic\u001b[0;34m(line, cell)\u001b[0m\n\u001b[1;32m    <a href='file:///home/leehosu01/.local/lib/python3.8/site-packages/IPython/core/magics/script.py?line=150'>151</a>\u001b[0m \u001b[39melse\u001b[39;00m:\n\u001b[1;32m    <a href='file:///home/leehosu01/.local/lib/python3.8/site-packages/IPython/core/magics/script.py?line=151'>152</a>\u001b[0m     line \u001b[39m=\u001b[39m script\n\u001b[0;32m--> <a href='file:///home/leehosu01/.local/lib/python3.8/site-packages/IPython/core/magics/script.py?line=152'>153</a>\u001b[0m \u001b[39mreturn\u001b[39;00m \u001b[39mself\u001b[39;49m\u001b[39m.\u001b[39;49mshebang(line, cell)\n",
            "File \u001b[0;32m~/.local/lib/python3.8/site-packages/IPython/core/magics/script.py:305\u001b[0m, in \u001b[0;36mScriptMagics.shebang\u001b[0;34m(self, line, cell)\u001b[0m\n\u001b[1;32m    <a href='file:///home/leehosu01/.local/lib/python3.8/site-packages/IPython/core/magics/script.py?line=299'>300</a>\u001b[0m \u001b[39mif\u001b[39;00m args\u001b[39m.\u001b[39mraise_error \u001b[39mand\u001b[39;00m p\u001b[39m.\u001b[39mreturncode \u001b[39m!=\u001b[39m \u001b[39m0\u001b[39m:\n\u001b[1;32m    <a href='file:///home/leehosu01/.local/lib/python3.8/site-packages/IPython/core/magics/script.py?line=300'>301</a>\u001b[0m     \u001b[39m# If we get here and p.returncode is still None, we must have\u001b[39;00m\n\u001b[1;32m    <a href='file:///home/leehosu01/.local/lib/python3.8/site-packages/IPython/core/magics/script.py?line=301'>302</a>\u001b[0m     \u001b[39m# killed it but not yet seen its return code. We don't wait for it,\u001b[39;00m\n\u001b[1;32m    <a href='file:///home/leehosu01/.local/lib/python3.8/site-packages/IPython/core/magics/script.py?line=302'>303</a>\u001b[0m     \u001b[39m# in case it's stuck in uninterruptible sleep. -9 = SIGKILL\u001b[39;00m\n\u001b[1;32m    <a href='file:///home/leehosu01/.local/lib/python3.8/site-packages/IPython/core/magics/script.py?line=303'>304</a>\u001b[0m     rc \u001b[39m=\u001b[39m p\u001b[39m.\u001b[39mreturncode \u001b[39mor\u001b[39;00m \u001b[39m-\u001b[39m\u001b[39m9\u001b[39m\n\u001b[0;32m--> <a href='file:///home/leehosu01/.local/lib/python3.8/site-packages/IPython/core/magics/script.py?line=304'>305</a>\u001b[0m     \u001b[39mraise\u001b[39;00m CalledProcessError(rc, cell)\n",
            "\u001b[0;31mCalledProcessError\u001b[0m: Command 'b'# sudo ln -sfn /usr/local/cuda/lib64/libnvrtc-builtins.so.11.6 /usr/local/cuda/lib64/libnvrtc-builtins.so.11.2 \\ncd  ~/content/ADOP/\\nsudo build/bin/adop_train --config $DATASET_PATH/train_config.ini\\n'' returned non-zero exit status 127."
          ]
        }
      ],
      "source": [
        "%%bash\n",
        "# sudo ln -sfn /usr/local/cuda/lib64/libnvrtc-builtins.so.11.6 /usr/local/cuda/lib64/libnvrtc-builtins.so.11.2 \n",
        "export LD_LIBRARY_PATH=\"~/.conda/envs/adop/lib/:${LD_LIBRARY_PATH}\" \n",
        "cd  ~/content/ADOP/\n",
        "sudo build/bin/adop_train --config $DATASET_PATH/train_config.ini"
      ]
    },
    {
      "cell_type": "code",
      "execution_count": null,
      "metadata": {},
      "outputs": [],
      "source": [
        "# unzip -l scenes.zip\n",
        "# reorganize path for train\n",
        "#   "
      ]
    },
    {
      "cell_type": "code",
      "execution_count": null,
      "metadata": {},
      "outputs": [],
      "source": []
    },
    {
      "cell_type": "code",
      "execution_count": null,
      "metadata": {
        "id": "yuV0SMjzi-eG"
      },
      "outputs": [],
      "source": [
        "%%bash\n",
        "cd /content\n",
        "cd ADOP\n",
        "\n",
        "./build/bin/adop_train --config configs/train_boat.ini"
      ]
    },
    {
      "cell_type": "code",
      "execution_count": null,
      "metadata": {
        "id": "yzGqY1z9i-gg"
      },
      "outputs": [],
      "source": [
        "%%bash\n",
        "cd /content"
      ]
    },
    {
      "cell_type": "code",
      "execution_count": null,
      "metadata": {
        "id": "SMW5U6JVi-i7"
      },
      "outputs": [],
      "source": [
        "%%bash\n",
        "cd /content"
      ]
    }
  ],
  "metadata": {
    "accelerator": "TPU",
    "colab": {
      "collapsed_sections": [],
      "machine_shape": "hm",
      "name": "ADOP_0.0.2.ipynb",
      "provenance": []
    },
    "kernelspec": {
      "display_name": "Python 3",
      "name": "python3"
    },
    "language_info": {
      "codemirror_mode": {
        "name": "ipython",
        "version": 3
      },
      "file_extension": ".py",
      "mimetype": "text/x-python",
      "name": "python",
      "nbconvert_exporter": "python",
      "pygments_lexer": "ipython3",
      "version": "3.8.10"
    }
  },
  "nbformat": 4,
  "nbformat_minor": 0
}
